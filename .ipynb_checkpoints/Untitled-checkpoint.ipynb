{
 "cells": [
  {
   "cell_type": "code",
   "execution_count": 1,
   "id": "9a716e04-a957-416c-95ce-89a133a7e248",
   "metadata": {},
   "outputs": [],
   "source": [
    "import pandas as pd\n",
    "import matplotlib.pyplot as plt\n",
    "import seaborn as sns\n",
    "from sklearn.preprocessing import LabelEncoder\n",
    "from sklearn.model_selection import train_test_split\n",
    "from sklearn.metrics import mean_squared_error"
   ]
  },
  {
   "cell_type": "code",
   "execution_count": 2,
   "id": "d4d20a40-9c3a-4830-97c4-e64aef01ffbe",
   "metadata": {},
   "outputs": [],
   "source": [
    "train = pd.read_csv('train.csv')\n",
    "test = pd.read_csv('test.csv')"
   ]
  },
  {
   "cell_type": "code",
   "execution_count": 3,
   "id": "ec37cd3d-7f33-4231-ab51-d6b1268deeb6",
   "metadata": {},
   "outputs": [
    {
     "data": {
      "text/html": [
       "<div>\n",
       "<style scoped>\n",
       "    .dataframe tbody tr th:only-of-type {\n",
       "        vertical-align: middle;\n",
       "    }\n",
       "\n",
       "    .dataframe tbody tr th {\n",
       "        vertical-align: top;\n",
       "    }\n",
       "\n",
       "    .dataframe thead th {\n",
       "        text-align: right;\n",
       "    }\n",
       "</style>\n",
       "<table border=\"1\" class=\"dataframe\">\n",
       "  <thead>\n",
       "    <tr style=\"text-align: right;\">\n",
       "      <th></th>\n",
       "      <th>Id</th>\n",
       "      <th>MSSubClass</th>\n",
       "      <th>MSZoning</th>\n",
       "      <th>LotFrontage</th>\n",
       "      <th>LotArea</th>\n",
       "      <th>Street</th>\n",
       "      <th>Alley</th>\n",
       "      <th>LotShape</th>\n",
       "      <th>LandContour</th>\n",
       "      <th>Utilities</th>\n",
       "      <th>...</th>\n",
       "      <th>PoolArea</th>\n",
       "      <th>PoolQC</th>\n",
       "      <th>Fence</th>\n",
       "      <th>MiscFeature</th>\n",
       "      <th>MiscVal</th>\n",
       "      <th>MoSold</th>\n",
       "      <th>YrSold</th>\n",
       "      <th>SaleType</th>\n",
       "      <th>SaleCondition</th>\n",
       "      <th>SalePrice</th>\n",
       "    </tr>\n",
       "  </thead>\n",
       "  <tbody>\n",
       "    <tr>\n",
       "      <th>0</th>\n",
       "      <td>1</td>\n",
       "      <td>60</td>\n",
       "      <td>RL</td>\n",
       "      <td>65.0</td>\n",
       "      <td>8450</td>\n",
       "      <td>Pave</td>\n",
       "      <td>NaN</td>\n",
       "      <td>Reg</td>\n",
       "      <td>Lvl</td>\n",
       "      <td>AllPub</td>\n",
       "      <td>...</td>\n",
       "      <td>0</td>\n",
       "      <td>NaN</td>\n",
       "      <td>NaN</td>\n",
       "      <td>NaN</td>\n",
       "      <td>0</td>\n",
       "      <td>2</td>\n",
       "      <td>2008</td>\n",
       "      <td>WD</td>\n",
       "      <td>Normal</td>\n",
       "      <td>208500</td>\n",
       "    </tr>\n",
       "    <tr>\n",
       "      <th>1</th>\n",
       "      <td>2</td>\n",
       "      <td>20</td>\n",
       "      <td>RL</td>\n",
       "      <td>80.0</td>\n",
       "      <td>9600</td>\n",
       "      <td>Pave</td>\n",
       "      <td>NaN</td>\n",
       "      <td>Reg</td>\n",
       "      <td>Lvl</td>\n",
       "      <td>AllPub</td>\n",
       "      <td>...</td>\n",
       "      <td>0</td>\n",
       "      <td>NaN</td>\n",
       "      <td>NaN</td>\n",
       "      <td>NaN</td>\n",
       "      <td>0</td>\n",
       "      <td>5</td>\n",
       "      <td>2007</td>\n",
       "      <td>WD</td>\n",
       "      <td>Normal</td>\n",
       "      <td>181500</td>\n",
       "    </tr>\n",
       "    <tr>\n",
       "      <th>2</th>\n",
       "      <td>3</td>\n",
       "      <td>60</td>\n",
       "      <td>RL</td>\n",
       "      <td>68.0</td>\n",
       "      <td>11250</td>\n",
       "      <td>Pave</td>\n",
       "      <td>NaN</td>\n",
       "      <td>IR1</td>\n",
       "      <td>Lvl</td>\n",
       "      <td>AllPub</td>\n",
       "      <td>...</td>\n",
       "      <td>0</td>\n",
       "      <td>NaN</td>\n",
       "      <td>NaN</td>\n",
       "      <td>NaN</td>\n",
       "      <td>0</td>\n",
       "      <td>9</td>\n",
       "      <td>2008</td>\n",
       "      <td>WD</td>\n",
       "      <td>Normal</td>\n",
       "      <td>223500</td>\n",
       "    </tr>\n",
       "    <tr>\n",
       "      <th>3</th>\n",
       "      <td>4</td>\n",
       "      <td>70</td>\n",
       "      <td>RL</td>\n",
       "      <td>60.0</td>\n",
       "      <td>9550</td>\n",
       "      <td>Pave</td>\n",
       "      <td>NaN</td>\n",
       "      <td>IR1</td>\n",
       "      <td>Lvl</td>\n",
       "      <td>AllPub</td>\n",
       "      <td>...</td>\n",
       "      <td>0</td>\n",
       "      <td>NaN</td>\n",
       "      <td>NaN</td>\n",
       "      <td>NaN</td>\n",
       "      <td>0</td>\n",
       "      <td>2</td>\n",
       "      <td>2006</td>\n",
       "      <td>WD</td>\n",
       "      <td>Abnorml</td>\n",
       "      <td>140000</td>\n",
       "    </tr>\n",
       "    <tr>\n",
       "      <th>4</th>\n",
       "      <td>5</td>\n",
       "      <td>60</td>\n",
       "      <td>RL</td>\n",
       "      <td>84.0</td>\n",
       "      <td>14260</td>\n",
       "      <td>Pave</td>\n",
       "      <td>NaN</td>\n",
       "      <td>IR1</td>\n",
       "      <td>Lvl</td>\n",
       "      <td>AllPub</td>\n",
       "      <td>...</td>\n",
       "      <td>0</td>\n",
       "      <td>NaN</td>\n",
       "      <td>NaN</td>\n",
       "      <td>NaN</td>\n",
       "      <td>0</td>\n",
       "      <td>12</td>\n",
       "      <td>2008</td>\n",
       "      <td>WD</td>\n",
       "      <td>Normal</td>\n",
       "      <td>250000</td>\n",
       "    </tr>\n",
       "  </tbody>\n",
       "</table>\n",
       "<p>5 rows × 81 columns</p>\n",
       "</div>"
      ],
      "text/plain": [
       "   Id  MSSubClass MSZoning  LotFrontage  LotArea Street Alley LotShape  \\\n",
       "0   1          60       RL         65.0     8450   Pave   NaN      Reg   \n",
       "1   2          20       RL         80.0     9600   Pave   NaN      Reg   \n",
       "2   3          60       RL         68.0    11250   Pave   NaN      IR1   \n",
       "3   4          70       RL         60.0     9550   Pave   NaN      IR1   \n",
       "4   5          60       RL         84.0    14260   Pave   NaN      IR1   \n",
       "\n",
       "  LandContour Utilities  ... PoolArea PoolQC Fence MiscFeature MiscVal MoSold  \\\n",
       "0         Lvl    AllPub  ...        0    NaN   NaN         NaN       0      2   \n",
       "1         Lvl    AllPub  ...        0    NaN   NaN         NaN       0      5   \n",
       "2         Lvl    AllPub  ...        0    NaN   NaN         NaN       0      9   \n",
       "3         Lvl    AllPub  ...        0    NaN   NaN         NaN       0      2   \n",
       "4         Lvl    AllPub  ...        0    NaN   NaN         NaN       0     12   \n",
       "\n",
       "  YrSold  SaleType  SaleCondition  SalePrice  \n",
       "0   2008        WD         Normal     208500  \n",
       "1   2007        WD         Normal     181500  \n",
       "2   2008        WD         Normal     223500  \n",
       "3   2006        WD        Abnorml     140000  \n",
       "4   2008        WD         Normal     250000  \n",
       "\n",
       "[5 rows x 81 columns]"
      ]
     },
     "execution_count": 3,
     "metadata": {},
     "output_type": "execute_result"
    }
   ],
   "source": [
    "train.head()"
   ]
  },
  {
   "cell_type": "code",
   "execution_count": 4,
   "id": "27961339-1b30-4096-8c59-f06c3a8f72b7",
   "metadata": {},
   "outputs": [
    {
     "data": {
      "text/html": [
       "<div>\n",
       "<style scoped>\n",
       "    .dataframe tbody tr th:only-of-type {\n",
       "        vertical-align: middle;\n",
       "    }\n",
       "\n",
       "    .dataframe tbody tr th {\n",
       "        vertical-align: top;\n",
       "    }\n",
       "\n",
       "    .dataframe thead th {\n",
       "        text-align: right;\n",
       "    }\n",
       "</style>\n",
       "<table border=\"1\" class=\"dataframe\">\n",
       "  <thead>\n",
       "    <tr style=\"text-align: right;\">\n",
       "      <th></th>\n",
       "      <th>Id</th>\n",
       "      <th>MSSubClass</th>\n",
       "      <th>MSZoning</th>\n",
       "      <th>LotFrontage</th>\n",
       "      <th>LotArea</th>\n",
       "      <th>Street</th>\n",
       "      <th>Alley</th>\n",
       "      <th>LotShape</th>\n",
       "      <th>LandContour</th>\n",
       "      <th>Utilities</th>\n",
       "      <th>...</th>\n",
       "      <th>ScreenPorch</th>\n",
       "      <th>PoolArea</th>\n",
       "      <th>PoolQC</th>\n",
       "      <th>Fence</th>\n",
       "      <th>MiscFeature</th>\n",
       "      <th>MiscVal</th>\n",
       "      <th>MoSold</th>\n",
       "      <th>YrSold</th>\n",
       "      <th>SaleType</th>\n",
       "      <th>SaleCondition</th>\n",
       "    </tr>\n",
       "  </thead>\n",
       "  <tbody>\n",
       "    <tr>\n",
       "      <th>0</th>\n",
       "      <td>1001</td>\n",
       "      <td>20</td>\n",
       "      <td>RL</td>\n",
       "      <td>74.0</td>\n",
       "      <td>10206</td>\n",
       "      <td>Pave</td>\n",
       "      <td>NaN</td>\n",
       "      <td>Reg</td>\n",
       "      <td>Lvl</td>\n",
       "      <td>AllPub</td>\n",
       "      <td>...</td>\n",
       "      <td>0</td>\n",
       "      <td>0</td>\n",
       "      <td>NaN</td>\n",
       "      <td>NaN</td>\n",
       "      <td>NaN</td>\n",
       "      <td>0</td>\n",
       "      <td>7</td>\n",
       "      <td>2009</td>\n",
       "      <td>WD</td>\n",
       "      <td>Normal</td>\n",
       "    </tr>\n",
       "    <tr>\n",
       "      <th>1</th>\n",
       "      <td>1002</td>\n",
       "      <td>30</td>\n",
       "      <td>RL</td>\n",
       "      <td>60.0</td>\n",
       "      <td>5400</td>\n",
       "      <td>Pave</td>\n",
       "      <td>NaN</td>\n",
       "      <td>Reg</td>\n",
       "      <td>Lvl</td>\n",
       "      <td>AllPub</td>\n",
       "      <td>...</td>\n",
       "      <td>0</td>\n",
       "      <td>0</td>\n",
       "      <td>NaN</td>\n",
       "      <td>NaN</td>\n",
       "      <td>NaN</td>\n",
       "      <td>0</td>\n",
       "      <td>1</td>\n",
       "      <td>2007</td>\n",
       "      <td>WD</td>\n",
       "      <td>Abnorml</td>\n",
       "    </tr>\n",
       "    <tr>\n",
       "      <th>2</th>\n",
       "      <td>1003</td>\n",
       "      <td>20</td>\n",
       "      <td>RL</td>\n",
       "      <td>75.0</td>\n",
       "      <td>11957</td>\n",
       "      <td>Pave</td>\n",
       "      <td>NaN</td>\n",
       "      <td>IR1</td>\n",
       "      <td>Lvl</td>\n",
       "      <td>AllPub</td>\n",
       "      <td>...</td>\n",
       "      <td>0</td>\n",
       "      <td>0</td>\n",
       "      <td>NaN</td>\n",
       "      <td>NaN</td>\n",
       "      <td>NaN</td>\n",
       "      <td>0</td>\n",
       "      <td>7</td>\n",
       "      <td>2008</td>\n",
       "      <td>WD</td>\n",
       "      <td>Normal</td>\n",
       "    </tr>\n",
       "    <tr>\n",
       "      <th>3</th>\n",
       "      <td>1004</td>\n",
       "      <td>90</td>\n",
       "      <td>RL</td>\n",
       "      <td>NaN</td>\n",
       "      <td>11500</td>\n",
       "      <td>Pave</td>\n",
       "      <td>NaN</td>\n",
       "      <td>IR1</td>\n",
       "      <td>Lvl</td>\n",
       "      <td>AllPub</td>\n",
       "      <td>...</td>\n",
       "      <td>0</td>\n",
       "      <td>0</td>\n",
       "      <td>NaN</td>\n",
       "      <td>NaN</td>\n",
       "      <td>NaN</td>\n",
       "      <td>0</td>\n",
       "      <td>6</td>\n",
       "      <td>2007</td>\n",
       "      <td>WD</td>\n",
       "      <td>Normal</td>\n",
       "    </tr>\n",
       "    <tr>\n",
       "      <th>4</th>\n",
       "      <td>1005</td>\n",
       "      <td>120</td>\n",
       "      <td>RL</td>\n",
       "      <td>43.0</td>\n",
       "      <td>3182</td>\n",
       "      <td>Pave</td>\n",
       "      <td>NaN</td>\n",
       "      <td>Reg</td>\n",
       "      <td>Lvl</td>\n",
       "      <td>AllPub</td>\n",
       "      <td>...</td>\n",
       "      <td>0</td>\n",
       "      <td>0</td>\n",
       "      <td>NaN</td>\n",
       "      <td>NaN</td>\n",
       "      <td>NaN</td>\n",
       "      <td>0</td>\n",
       "      <td>5</td>\n",
       "      <td>2009</td>\n",
       "      <td>WD</td>\n",
       "      <td>Normal</td>\n",
       "    </tr>\n",
       "  </tbody>\n",
       "</table>\n",
       "<p>5 rows × 80 columns</p>\n",
       "</div>"
      ],
      "text/plain": [
       "     Id  MSSubClass MSZoning  LotFrontage  LotArea Street Alley LotShape  \\\n",
       "0  1001          20       RL         74.0    10206   Pave   NaN      Reg   \n",
       "1  1002          30       RL         60.0     5400   Pave   NaN      Reg   \n",
       "2  1003          20       RL         75.0    11957   Pave   NaN      IR1   \n",
       "3  1004          90       RL          NaN    11500   Pave   NaN      IR1   \n",
       "4  1005         120       RL         43.0     3182   Pave   NaN      Reg   \n",
       "\n",
       "  LandContour Utilities  ... ScreenPorch PoolArea PoolQC Fence MiscFeature  \\\n",
       "0         Lvl    AllPub  ...           0        0    NaN   NaN         NaN   \n",
       "1         Lvl    AllPub  ...           0        0    NaN   NaN         NaN   \n",
       "2         Lvl    AllPub  ...           0        0    NaN   NaN         NaN   \n",
       "3         Lvl    AllPub  ...           0        0    NaN   NaN         NaN   \n",
       "4         Lvl    AllPub  ...           0        0    NaN   NaN         NaN   \n",
       "\n",
       "  MiscVal MoSold  YrSold  SaleType  SaleCondition  \n",
       "0       0      7    2009        WD         Normal  \n",
       "1       0      1    2007        WD        Abnorml  \n",
       "2       0      7    2008        WD         Normal  \n",
       "3       0      6    2007        WD         Normal  \n",
       "4       0      5    2009        WD         Normal  \n",
       "\n",
       "[5 rows x 80 columns]"
      ]
     },
     "execution_count": 4,
     "metadata": {},
     "output_type": "execute_result"
    }
   ],
   "source": [
    "test.head()"
   ]
  },
  {
   "cell_type": "code",
   "execution_count": 5,
   "id": "4a514a74-ed71-4ee8-b26a-b5b0511604cc",
   "metadata": {},
   "outputs": [
    {
     "name": "stdout",
     "output_type": "stream",
     "text": [
      "<class 'pandas.core.frame.DataFrame'>\n",
      "RangeIndex: 1000 entries, 0 to 999\n",
      "Data columns (total 81 columns):\n",
      " #   Column         Non-Null Count  Dtype  \n",
      "---  ------         --------------  -----  \n",
      " 0   Id             1000 non-null   int64  \n",
      " 1   MSSubClass     1000 non-null   int64  \n",
      " 2   MSZoning       1000 non-null   object \n",
      " 3   LotFrontage    827 non-null    float64\n",
      " 4   LotArea        1000 non-null   int64  \n",
      " 5   Street         1000 non-null   object \n",
      " 6   Alley          65 non-null     object \n",
      " 7   LotShape       1000 non-null   object \n",
      " 8   LandContour    1000 non-null   object \n",
      " 9   Utilities      1000 non-null   object \n",
      " 10  LotConfig      1000 non-null   object \n",
      " 11  LandSlope      1000 non-null   object \n",
      " 12  Neighborhood   1000 non-null   object \n",
      " 13  Condition1     1000 non-null   object \n",
      " 14  Condition2     1000 non-null   object \n",
      " 15  BldgType       1000 non-null   object \n",
      " 16  HouseStyle     1000 non-null   object \n",
      " 17  OverallQual    1000 non-null   int64  \n",
      " 18  OverallCond    1000 non-null   int64  \n",
      " 19  YearBuilt      1000 non-null   int64  \n",
      " 20  YearRemodAdd   1000 non-null   int64  \n",
      " 21  RoofStyle      1000 non-null   object \n",
      " 22  RoofMatl       1000 non-null   object \n",
      " 23  Exterior1st    1000 non-null   object \n",
      " 24  Exterior2nd    1000 non-null   object \n",
      " 25  MasVnrType     994 non-null    object \n",
      " 26  MasVnrArea     994 non-null    float64\n",
      " 27  ExterQual      1000 non-null   object \n",
      " 28  ExterCond      1000 non-null   object \n",
      " 29  Foundation     1000 non-null   object \n",
      " 30  BsmtQual       976 non-null    object \n",
      " 31  BsmtCond       976 non-null    object \n",
      " 32  BsmtExposure   975 non-null    object \n",
      " 33  BsmtFinType1   976 non-null    object \n",
      " 34  BsmtFinSF1     1000 non-null   int64  \n",
      " 35  BsmtFinType2   975 non-null    object \n",
      " 36  BsmtFinSF2     1000 non-null   int64  \n",
      " 37  BsmtUnfSF      1000 non-null   int64  \n",
      " 38  TotalBsmtSF    1000 non-null   int64  \n",
      " 39  Heating        1000 non-null   object \n",
      " 40  HeatingQC      1000 non-null   object \n",
      " 41  CentralAir     1000 non-null   object \n",
      " 42  Electrical     1000 non-null   object \n",
      " 43  1stFlrSF       1000 non-null   int64  \n",
      " 44  2ndFlrSF       1000 non-null   int64  \n",
      " 45  LowQualFinSF   1000 non-null   int64  \n",
      " 46  GrLivArea      1000 non-null   int64  \n",
      " 47  BsmtFullBath   1000 non-null   int64  \n",
      " 48  BsmtHalfBath   1000 non-null   int64  \n",
      " 49  FullBath       1000 non-null   int64  \n",
      " 50  HalfBath       1000 non-null   int64  \n",
      " 51  BedroomAbvGr   1000 non-null   int64  \n",
      " 52  KitchenAbvGr   1000 non-null   int64  \n",
      " 53  KitchenQual    1000 non-null   object \n",
      " 54  TotRmsAbvGrd   1000 non-null   int64  \n",
      " 55  Functional     1000 non-null   object \n",
      " 56  Fireplaces     1000 non-null   int64  \n",
      " 57  FireplaceQu    522 non-null    object \n",
      " 58  GarageType     944 non-null    object \n",
      " 59  GarageYrBlt    944 non-null    float64\n",
      " 60  GarageFinish   944 non-null    object \n",
      " 61  GarageCars     1000 non-null   int64  \n",
      " 62  GarageArea     1000 non-null   int64  \n",
      " 63  GarageQual     944 non-null    object \n",
      " 64  GarageCond     944 non-null    object \n",
      " 65  PavedDrive     1000 non-null   object \n",
      " 66  WoodDeckSF     1000 non-null   int64  \n",
      " 67  OpenPorchSF    1000 non-null   int64  \n",
      " 68  EnclosedPorch  1000 non-null   int64  \n",
      " 69  3SsnPorch      1000 non-null   int64  \n",
      " 70  ScreenPorch    1000 non-null   int64  \n",
      " 71  PoolArea       1000 non-null   int64  \n",
      " 72  PoolQC         2 non-null      object \n",
      " 73  Fence          194 non-null    object \n",
      " 74  MiscFeature    43 non-null     object \n",
      " 75  MiscVal        1000 non-null   int64  \n",
      " 76  MoSold         1000 non-null   int64  \n",
      " 77  YrSold         1000 non-null   int64  \n",
      " 78  SaleType       1000 non-null   object \n",
      " 79  SaleCondition  1000 non-null   object \n",
      " 80  SalePrice      1000 non-null   int64  \n",
      "dtypes: float64(3), int64(35), object(43)\n",
      "memory usage: 632.9+ KB\n"
     ]
    }
   ],
   "source": [
    "train.info()"
   ]
  },
  {
   "cell_type": "code",
   "execution_count": 6,
   "id": "9e993700-fa75-432b-a253-e728f93b023b",
   "metadata": {},
   "outputs": [
    {
     "name": "stdout",
     "output_type": "stream",
     "text": [
      "<class 'pandas.core.frame.DataFrame'>\n",
      "RangeIndex: 460 entries, 0 to 459\n",
      "Data columns (total 80 columns):\n",
      " #   Column         Non-Null Count  Dtype  \n",
      "---  ------         --------------  -----  \n",
      " 0   Id             460 non-null    int64  \n",
      " 1   MSSubClass     460 non-null    int64  \n",
      " 2   MSZoning       460 non-null    object \n",
      " 3   LotFrontage    374 non-null    float64\n",
      " 4   LotArea        460 non-null    int64  \n",
      " 5   Street         460 non-null    object \n",
      " 6   Alley          26 non-null     object \n",
      " 7   LotShape       460 non-null    object \n",
      " 8   LandContour    460 non-null    object \n",
      " 9   Utilities      460 non-null    object \n",
      " 10  LotConfig      460 non-null    object \n",
      " 11  LandSlope      460 non-null    object \n",
      " 12  Neighborhood   460 non-null    object \n",
      " 13  Condition1     460 non-null    object \n",
      " 14  Condition2     460 non-null    object \n",
      " 15  BldgType       460 non-null    object \n",
      " 16  HouseStyle     460 non-null    object \n",
      " 17  OverallQual    460 non-null    int64  \n",
      " 18  OverallCond    460 non-null    int64  \n",
      " 19  YearBuilt      460 non-null    int64  \n",
      " 20  YearRemodAdd   460 non-null    int64  \n",
      " 21  RoofStyle      460 non-null    object \n",
      " 22  RoofMatl       460 non-null    object \n",
      " 23  Exterior1st    460 non-null    object \n",
      " 24  Exterior2nd    460 non-null    object \n",
      " 25  MasVnrType     458 non-null    object \n",
      " 26  MasVnrArea     458 non-null    float64\n",
      " 27  ExterQual      460 non-null    object \n",
      " 28  ExterCond      460 non-null    object \n",
      " 29  Foundation     460 non-null    object \n",
      " 30  BsmtQual       447 non-null    object \n",
      " 31  BsmtCond       447 non-null    object \n",
      " 32  BsmtExposure   447 non-null    object \n",
      " 33  BsmtFinType1   447 non-null    object \n",
      " 34  BsmtFinSF1     460 non-null    int64  \n",
      " 35  BsmtFinType2   447 non-null    object \n",
      " 36  BsmtFinSF2     460 non-null    int64  \n",
      " 37  BsmtUnfSF      460 non-null    int64  \n",
      " 38  TotalBsmtSF    460 non-null    int64  \n",
      " 39  Heating        460 non-null    object \n",
      " 40  HeatingQC      460 non-null    object \n",
      " 41  CentralAir     460 non-null    object \n",
      " 42  Electrical     459 non-null    object \n",
      " 43  1stFlrSF       460 non-null    int64  \n",
      " 44  2ndFlrSF       460 non-null    int64  \n",
      " 45  LowQualFinSF   460 non-null    int64  \n",
      " 46  GrLivArea      460 non-null    int64  \n",
      " 47  BsmtFullBath   460 non-null    int64  \n",
      " 48  BsmtHalfBath   460 non-null    int64  \n",
      " 49  FullBath       460 non-null    int64  \n",
      " 50  HalfBath       460 non-null    int64  \n",
      " 51  BedroomAbvGr   460 non-null    int64  \n",
      " 52  KitchenAbvGr   460 non-null    int64  \n",
      " 53  KitchenQual    460 non-null    object \n",
      " 54  TotRmsAbvGrd   460 non-null    int64  \n",
      " 55  Functional     460 non-null    object \n",
      " 56  Fireplaces     460 non-null    int64  \n",
      " 57  FireplaceQu    248 non-null    object \n",
      " 58  GarageType     435 non-null    object \n",
      " 59  GarageYrBlt    435 non-null    float64\n",
      " 60  GarageFinish   435 non-null    object \n",
      " 61  GarageCars     460 non-null    int64  \n",
      " 62  GarageArea     460 non-null    int64  \n",
      " 63  GarageQual     435 non-null    object \n",
      " 64  GarageCond     435 non-null    object \n",
      " 65  PavedDrive     460 non-null    object \n",
      " 66  WoodDeckSF     460 non-null    int64  \n",
      " 67  OpenPorchSF    460 non-null    int64  \n",
      " 68  EnclosedPorch  460 non-null    int64  \n",
      " 69  3SsnPorch      460 non-null    int64  \n",
      " 70  ScreenPorch    460 non-null    int64  \n",
      " 71  PoolArea       460 non-null    int64  \n",
      " 72  PoolQC         5 non-null      object \n",
      " 73  Fence          87 non-null     object \n",
      " 74  MiscFeature    11 non-null     object \n",
      " 75  MiscVal        460 non-null    int64  \n",
      " 76  MoSold         460 non-null    int64  \n",
      " 77  YrSold         460 non-null    int64  \n",
      " 78  SaleType       460 non-null    object \n",
      " 79  SaleCondition  460 non-null    object \n",
      "dtypes: float64(3), int64(34), object(43)\n",
      "memory usage: 287.6+ KB\n"
     ]
    }
   ],
   "source": [
    "test.info()"
   ]
  },
  {
   "cell_type": "code",
   "execution_count": 7,
   "id": "23bd6381-09e2-4516-9219-8b0d8bea1bb7",
   "metadata": {},
   "outputs": [
    {
     "name": "stdout",
     "output_type": "stream",
     "text": [
      "(1000, 81) (460, 80)\n"
     ]
    }
   ],
   "source": [
    "print(train.shape, test.shape)"
   ]
  },
  {
   "cell_type": "code",
   "execution_count": 8,
   "id": "2e76cb4f-6784-41b0-bff3-f0fd7b134c06",
   "metadata": {},
   "outputs": [
    {
     "data": {
      "text/plain": [
       "Id                 0\n",
       "MSSubClass         0\n",
       "MSZoning           0\n",
       "LotFrontage      173\n",
       "LotArea            0\n",
       "                ... \n",
       "MoSold             0\n",
       "YrSold             0\n",
       "SaleType           0\n",
       "SaleCondition      0\n",
       "SalePrice          0\n",
       "Length: 81, dtype: int64"
      ]
     },
     "metadata": {},
     "output_type": "display_data"
    },
    {
     "data": {
      "text/plain": [
       "Id                 0\n",
       "MSSubClass         0\n",
       "MSZoning           0\n",
       "LotFrontage      173\n",
       "LotArea            0\n",
       "                ... \n",
       "MoSold             0\n",
       "YrSold             0\n",
       "SaleType           0\n",
       "SaleCondition      0\n",
       "SalePrice          0\n",
       "Length: 81, dtype: int64"
      ]
     },
     "metadata": {},
     "output_type": "display_data"
    }
   ],
   "source": [
    "display(train.isna().sum())\n",
    "display(train.isna().sum())"
   ]
  },
  {
   "cell_type": "code",
   "execution_count": 9,
   "id": "ce19c969-fb9d-4702-8ea3-015512a856d2",
   "metadata": {},
   "outputs": [
    {
     "data": {
      "text/plain": [
       "<AxesSubplot:>"
      ]
     },
     "execution_count": 9,
     "metadata": {},
     "output_type": "execute_result"
    },
    {
     "data": {
      "image/png": "[encoded data removed]",
      "text/plain": [
       "<Figure size 1080x504 with 2 Axes>"
      ]
     },
     "metadata": {
      "needs_background": "light"
     },
     "output_type": "display_data"
    }
   ],
   "source": [
    "plt.figure(figsize = (15, 7))\n",
    "cmap = sns.cubehelix_palette(as_cmap=True, light=.9)\n",
    "\n",
    "sns.heatmap(train.isna().transpose(), cmap = cmap, cbar_kws = {'label':'Missing Data'}, linewidth = 0.5)"
   ]
  },
  {
   "cell_type": "code",
   "execution_count": 10,
   "id": "88060d97-4f69-428a-9a61-50a616bebeb1",
   "metadata": {},
   "outputs": [
    {
     "data": {
      "text/plain": [
       "Id                 int64\n",
       "MSSubClass         int64\n",
       "MSZoning          object\n",
       "LotFrontage      float64\n",
       "LotArea            int64\n",
       "                  ...   \n",
       "MoSold             int64\n",
       "YrSold             int64\n",
       "SaleType          object\n",
       "SaleCondition     object\n",
       "SalePrice          int64\n",
       "Length: 81, dtype: object"
      ]
     },
     "metadata": {},
     "output_type": "display_data"
    }
   ],
   "source": [
    "display(train.dtypes)"
   ]
  },
  {
   "cell_type": "code",
   "execution_count": 11,
   "id": "a9457932-5011-4ae7-8121-e020b33490e6",
   "metadata": {},
   "outputs": [
    {
     "data": {
      "text/plain": [
       "<AxesSubplot:>"
      ]
     },
     "execution_count": 11,
     "metadata": {},
     "output_type": "execute_result"
    },
    {
     "data": {
      "image/png": "[encoded data removed]",
      "text/plain": [
       "<Figure size 1080x1080 with 2 Axes>"
      ]
     },
     "metadata": {
      "needs_background": "light"
     },
     "output_type": "display_data"
    }
   ],
   "source": [
    "plt.figure(figsize=(15,15))\n",
    "corr = train.corr()\n",
    "sns.heatmap(corr, cmap = \"YlGnBu\")"
   ]
  },
  {
   "cell_type": "code",
   "execution_count": 12,
   "id": "d94af024-3bfe-48c8-98c3-7bb46ca36e5f",
   "metadata": {},
   "outputs": [
    {
     "data": {
      "text/plain": [
       "Index(['MSZoning', 'Street', 'Alley', 'LotShape', 'LandContour', 'Utilities',\n",
       "       'LotConfig', 'LandSlope', 'Neighborhood', 'Condition1', 'Condition2',\n",
       "       'BldgType', 'HouseStyle', 'RoofStyle', 'RoofMatl', 'Exterior1st',\n",
       "       'Exterior2nd', 'MasVnrType', 'ExterQual', 'ExterCond', 'Foundation',\n",
       "       'BsmtQual', 'BsmtCond', 'BsmtExposure', 'BsmtFinType1', 'BsmtFinType2',\n",
       "       'Heating', 'HeatingQC', 'CentralAir', 'Electrical', 'KitchenQual',\n",
       "       'Functional', 'FireplaceQu', 'GarageType', 'GarageFinish', 'GarageQual',\n",
       "       'GarageCond', 'PavedDrive', 'PoolQC', 'Fence', 'MiscFeature',\n",
       "       'SaleType', 'SaleCondition'],\n",
       "      dtype='object')"
      ]
     },
     "execution_count": 12,
     "metadata": {},
     "output_type": "execute_result"
    }
   ],
   "source": [
    "categ = train.loc[:,train.dtypes == 'object'].columns\n",
    "categ"
   ]
  },
  {
   "cell_type": "code",
   "execution_count": 13,
   "id": "dfd89784-10c4-49e0-b650-bc7f677440f6",
   "metadata": {},
   "outputs": [],
   "source": [
    "for i in categ:\n",
    "    LE = LabelEncoder()\n",
    "    train[i] = LE.fit_transform(train[i])\n",
    "    test[i] = LE.fit_transform(test[i])"
   ]
  },
  {
   "cell_type": "code",
   "execution_count": 14,
   "id": "b33119d0-44cf-42d6-97e5-89ebba66f454",
   "metadata": {},
   "outputs": [],
   "source": [
    "train = train.fillna(train.mean(axis=0), axis=0)\n",
    "test = test.fillna(test.mean(axis=0), axis=0)"
   ]
  },
  {
   "cell_type": "code",
   "execution_count": 15,
   "id": "8e39a0b0-e4a5-4ee3-9666-ba65998d7e14",
   "metadata": {},
   "outputs": [],
   "source": [
    "X = train.drop(columns=['SalePrice'])\n",
    "y = train['SalePrice']"
   ]
  },
  {
   "cell_type": "code",
   "execution_count": 16,
   "id": "4c5beed2-e9cb-409c-b774-a399d67cb4db",
   "metadata": {},
   "outputs": [],
   "source": [
    "X_train, X_test, y_train, y_test = train_test_split(X, y, test_size=0.3)"
   ]
  },
  {
   "cell_type": "code",
   "execution_count": 17,
   "id": "5f19a27c-537b-481e-85f1-c5114b81a041",
   "metadata": {},
   "outputs": [
    {
     "name": "stdout",
     "output_type": "stream",
     "text": [
      "0.02\n",
      "CPU times: total: 4.03 s\n",
      "Wall time: 7.49 s\n"
     ]
    }
   ],
   "source": [
    "%%time\n",
    "from sklearn.ensemble import RandomForestClassifier\n",
    "from sklearn.metrics import accuracy_score\n",
    "\n",
    "clf = RandomForestClassifier(random_state=42)\n",
    "\n",
    "clf.fit(X_train, y_train)\n",
    "y_pred = clf.predict(X_test)\n",
    "\n",
    "print(accuracy_score(y_test, y_pred))"
   ]
  },
  {
   "cell_type": "code",
   "execution_count": 18,
   "id": "2edbb724-9c8c-4b96-ac8a-861dd1c32f6f",
   "metadata": {},
   "outputs": [
    {
     "name": "stdout",
     "output_type": "stream",
     "text": [
      "2058617194.93\n"
     ]
    }
   ],
   "source": [
    "print(mean_squared_error(y_test, y_pred))"
   ]
  },
  {
   "cell_type": "code",
   "execution_count": 19,
   "id": "bdbfd61a-aef0-4343-bce8-927b57d5133e",
   "metadata": {},
   "outputs": [
    {
     "data": {
      "text/plain": [
       "array([127500, 110000, 206000, 110000, 192500, 206000, 175000,  75000,\n",
       "       206000, 135000, 136500, 135000, 136500,  52000, 135000, 189000,\n",
       "       206000, 206000, 206000, 192500, 206000, 206000, 135000, 192500,\n",
       "       268000, 136500, 136500, 337500, 136500, 118000, 145900, 206000,\n",
       "       206000, 206000, 116000, 136500, 337500, 348000, 135000,  86000,\n",
       "       136500, 187000, 206000, 205000, 430000, 136500, 206000, 206000,\n",
       "        98300, 107500, 206000, 189000, 136500, 136500, 206000, 175000,\n",
       "       206000, 206000, 339750, 127500, 206000, 108000, 137000, 167500,\n",
       "       136500, 206000, 168000, 187000, 239000, 206000, 135000, 140000,\n",
       "        67000, 206000, 206000, 121600, 175000, 136500, 143000, 139000,\n",
       "       206000, 139000, 190000, 136500, 165600, 206000,  75000, 266000,\n",
       "       130000, 199900, 206000, 179400, 140000, 140000, 128000, 189000,\n",
       "       135000, 206000, 135000, 206000,  35311, 136500, 135000, 206000,\n",
       "       112000, 260000, 206000, 174000, 197000, 206000, 185000, 187000,\n",
       "       136500, 132000, 136500, 337500, 180000, 136500, 136500, 136500,\n",
       "       113000, 206000,  60000, 108000, 168500, 127500, 172500, 337500,\n",
       "       225000, 206000, 160000, 135000, 137000, 189000, 206000,  96500,\n",
       "       135000, 100000, 206000, 160000, 136500, 155000, 206000, 135000,\n",
       "       140000, 136500, 206000, 136500, 136500, 136500, 136500, 110000,\n",
       "       137500, 136500, 165150, 175000, 206000, 206000, 337500, 206000,\n",
       "       148500, 136500, 139000, 144000, 139000, 227680, 206000, 206000,\n",
       "       136500, 336000, 135000, 155000, 164700, 200000, 136500, 206000,\n",
       "       136500, 114504, 135000,  87000, 206000, 235000, 184750, 139000,\n",
       "       139000, 135000, 121600, 206000, 180000, 197000, 206000, 172500,\n",
       "       114504, 162000, 206000, 174000, 189000, 140000, 206000, 135000,\n",
       "       136500, 206000,  79000, 236500, 206000, 206000, 136500, 206000,\n",
       "       139000, 337500, 167500, 206000, 136500, 108000, 136500, 136500,\n",
       "       118964, 206000,  60000, 112000, 136500, 136500, 136500, 136500,\n",
       "       189000, 140000, 206000, 206000, 325624, 136500, 145900, 143000,\n",
       "        90000, 136500, 136500, 200100, 173000, 225000, 206000, 202500,\n",
       "       206000, 206000, 206000, 337500, 140000, 187000, 197000, 206000,\n",
       "       127500, 135000, 337500, 206000, 136500, 301000, 180000, 160000,\n",
       "       337500,  87000, 206000, 206000, 179000, 136500, 136500, 136500,\n",
       "       206000, 206000, 140000, 253293, 136500, 136500, 316600, 136500,\n",
       "       136500, 121600, 157500, 127500, 206000, 167500, 206000, 140000,\n",
       "       206000, 206000, 206000, 136500, 136500, 136500, 140000, 136500,\n",
       "       206000, 206000, 143000,  88000, 136500, 185000, 136500, 139000,\n",
       "       139000, 206000, 184750, 139000, 206000, 135000, 348000, 206000,\n",
       "       130000, 337500, 206000, 139000, 130000, 206000, 206000, 206000,\n",
       "       206000, 219500, 136500, 172000, 206000, 189000, 236500, 136500,\n",
       "       136500, 136500, 206000,  85500, 206000,  60000, 130000, 136500,\n",
       "       325000, 206000, 337500, 206000, 127500, 136500, 206000, 187000,\n",
       "       110000,  87000, 206000, 136500, 136500, 159000, 206000, 127500,\n",
       "       189000, 100000, 375000, 337500, 337500, 104000, 154300, 140000,\n",
       "        79500, 206000, 189000, 187000, 122000, 136500, 177000, 337500,\n",
       "       140000, 337500, 121600, 173900, 151000, 206000, 206000, 143000,\n",
       "       140000, 206000, 118500, 153000, 206000, 345000, 206000, 337500,\n",
       "       136500, 121600, 100000, 180000,  76000, 145000, 140000, 157500,\n",
       "       136500, 206000, 185000, 139000, 337500, 121600, 206000, 110000,\n",
       "       136500, 140000, 264561, 325000, 163000, 127500, 136500, 116000,\n",
       "       136500, 189000, 206000, 337500, 136500, 235000, 129500, 136500,\n",
       "       206000, 206000, 206000, 121600, 109900, 206000, 168000, 172500,\n",
       "       135000, 348000, 136500, 136500, 155000, 128000, 140000, 136500,\n",
       "       136500, 136500, 206000, 135000, 132000, 206000, 174000, 206000,\n",
       "       127500, 206000, 206000, 136500, 111250, 231500, 148500, 187000,\n",
       "       167500, 141000, 339750,  96500, 190000, 135000, 136500, 206000,\n",
       "       121600,  86000, 145900, 337500, 206000, 206000, 185000, 197000,\n",
       "       175000, 136500, 132000, 119900], dtype=int64)"
      ]
     },
     "execution_count": 19,
     "metadata": {},
     "output_type": "execute_result"
    }
   ],
   "source": [
    "y_pred_test = clf.predict(test)\n",
    "\n",
    "y_pred_test"
   ]
  },
  {
   "cell_type": "code",
   "execution_count": 20,
   "id": "aa983db1-cf9d-4322-81ca-8d6d37f3af2f",
   "metadata": {},
   "outputs": [],
   "source": [
    "y_pred_test = pd.DataFrame(data = y_pred_test, columns=['SalePrice'])\n",
    "\n",
    "y_pred_test = y_pred_test.reset_index()\n",
    "\n",
    "y_pred_test.to_csv('solution.csv', index = False)"
   ]
  },
  {
   "cell_type": "code",
   "execution_count": 21,
   "id": "9d878771-d56c-40ed-8c15-8addc79d0531",
   "metadata": {},
   "outputs": [
    {
     "ename": "ValueError",
     "evalue": "Data must be 1-dimensional",
     "output_type": "error",
     "traceback": [
      "\u001b[1;31m---------------------------------------------------------------------------\u001b[0m",
      "\u001b[1;31mValueError\u001b[0m                                Traceback (most recent call last)",
      "Input \u001b[1;32mIn [21]\u001b[0m, in \u001b[0;36m<cell line: 2>\u001b[1;34m()\u001b[0m\n\u001b[0;32m      1\u001b[0m test_id \u001b[38;5;241m=\u001b[39m test[\u001b[38;5;124m'\u001b[39m\u001b[38;5;124mId\u001b[39m\u001b[38;5;124m'\u001b[39m]\n\u001b[1;32m----> 2\u001b[0m df\u001b[38;5;241m=\u001b[39m\u001b[43mpd\u001b[49m\u001b[38;5;241;43m.\u001b[39;49m\u001b[43mDataFrame\u001b[49m\u001b[43m(\u001b[49m\u001b[43m{\u001b[49m\u001b[38;5;124;43m\"\u001b[39;49m\u001b[38;5;124;43mSalePrice\u001b[39;49m\u001b[38;5;124;43m\"\u001b[39;49m\u001b[43m:\u001b[49m\u001b[43my_pred_test\u001b[49m\u001b[43m}\u001b[49m\u001b[43m,\u001b[49m\u001b[43mindex\u001b[49m\u001b[43m \u001b[49m\u001b[38;5;241;43m=\u001b[39;49m\u001b[43m \u001b[49m\u001b[43mtest_id\u001b[49m\u001b[43m)\u001b[49m\n\u001b[0;32m      3\u001b[0m df\u001b[38;5;241m.\u001b[39mto_csv(\u001b[38;5;124m'\u001b[39m\u001b[38;5;124msolution.csv\u001b[39m\u001b[38;5;124m'\u001b[39m)\n",
      "File \u001b[1;32m~\\anaconda3\\lib\\site-packages\\pandas\\core\\frame.py:636\u001b[0m, in \u001b[0;36mDataFrame.__init__\u001b[1;34m(self, data, index, columns, dtype, copy)\u001b[0m\n\u001b[0;32m    630\u001b[0m     mgr \u001b[38;5;241m=\u001b[39m \u001b[38;5;28mself\u001b[39m\u001b[38;5;241m.\u001b[39m_init_mgr(\n\u001b[0;32m    631\u001b[0m         data, axes\u001b[38;5;241m=\u001b[39m{\u001b[38;5;124m\"\u001b[39m\u001b[38;5;124mindex\u001b[39m\u001b[38;5;124m\"\u001b[39m: index, \u001b[38;5;124m\"\u001b[39m\u001b[38;5;124mcolumns\u001b[39m\u001b[38;5;124m\"\u001b[39m: columns}, dtype\u001b[38;5;241m=\u001b[39mdtype, copy\u001b[38;5;241m=\u001b[39mcopy\n\u001b[0;32m    632\u001b[0m     )\n\u001b[0;32m    634\u001b[0m \u001b[38;5;28;01melif\u001b[39;00m \u001b[38;5;28misinstance\u001b[39m(data, \u001b[38;5;28mdict\u001b[39m):\n\u001b[0;32m    635\u001b[0m     \u001b[38;5;66;03m# GH#38939 de facto copy defaults to False only in non-dict cases\u001b[39;00m\n\u001b[1;32m--> 636\u001b[0m     mgr \u001b[38;5;241m=\u001b[39m \u001b[43mdict_to_mgr\u001b[49m\u001b[43m(\u001b[49m\u001b[43mdata\u001b[49m\u001b[43m,\u001b[49m\u001b[43m \u001b[49m\u001b[43mindex\u001b[49m\u001b[43m,\u001b[49m\u001b[43m \u001b[49m\u001b[43mcolumns\u001b[49m\u001b[43m,\u001b[49m\u001b[43m \u001b[49m\u001b[43mdtype\u001b[49m\u001b[38;5;241;43m=\u001b[39;49m\u001b[43mdtype\u001b[49m\u001b[43m,\u001b[49m\u001b[43m \u001b[49m\u001b[43mcopy\u001b[49m\u001b[38;5;241;43m=\u001b[39;49m\u001b[43mcopy\u001b[49m\u001b[43m,\u001b[49m\u001b[43m \u001b[49m\u001b[43mtyp\u001b[49m\u001b[38;5;241;43m=\u001b[39;49m\u001b[43mmanager\u001b[49m\u001b[43m)\u001b[49m\n\u001b[0;32m    637\u001b[0m \u001b[38;5;28;01melif\u001b[39;00m \u001b[38;5;28misinstance\u001b[39m(data, ma\u001b[38;5;241m.\u001b[39mMaskedArray):\n\u001b[0;32m    638\u001b[0m     \u001b[38;5;28;01mimport\u001b[39;00m \u001b[38;5;21;01mnumpy\u001b[39;00m\u001b[38;5;21;01m.\u001b[39;00m\u001b[38;5;21;01mma\u001b[39;00m\u001b[38;5;21;01m.\u001b[39;00m\u001b[38;5;21;01mmrecords\u001b[39;00m \u001b[38;5;28;01mas\u001b[39;00m \u001b[38;5;21;01mmrecords\u001b[39;00m\n",
      "File \u001b[1;32m~\\anaconda3\\lib\\site-packages\\pandas\\core\\internals\\construction.py:502\u001b[0m, in \u001b[0;36mdict_to_mgr\u001b[1;34m(data, index, columns, dtype, typ, copy)\u001b[0m\n\u001b[0;32m    494\u001b[0m     arrays \u001b[38;5;241m=\u001b[39m [\n\u001b[0;32m    495\u001b[0m         x\n\u001b[0;32m    496\u001b[0m         \u001b[38;5;28;01mif\u001b[39;00m \u001b[38;5;129;01mnot\u001b[39;00m \u001b[38;5;28mhasattr\u001b[39m(x, \u001b[38;5;124m\"\u001b[39m\u001b[38;5;124mdtype\u001b[39m\u001b[38;5;124m\"\u001b[39m) \u001b[38;5;129;01mor\u001b[39;00m \u001b[38;5;129;01mnot\u001b[39;00m \u001b[38;5;28misinstance\u001b[39m(x\u001b[38;5;241m.\u001b[39mdtype, ExtensionDtype)\n\u001b[0;32m    497\u001b[0m         \u001b[38;5;28;01melse\u001b[39;00m x\u001b[38;5;241m.\u001b[39mcopy()\n\u001b[0;32m    498\u001b[0m         \u001b[38;5;28;01mfor\u001b[39;00m x \u001b[38;5;129;01min\u001b[39;00m arrays\n\u001b[0;32m    499\u001b[0m     ]\n\u001b[0;32m    500\u001b[0m     \u001b[38;5;66;03m# TODO: can we get rid of the dt64tz special case above?\u001b[39;00m\n\u001b[1;32m--> 502\u001b[0m \u001b[38;5;28;01mreturn\u001b[39;00m \u001b[43marrays_to_mgr\u001b[49m\u001b[43m(\u001b[49m\u001b[43marrays\u001b[49m\u001b[43m,\u001b[49m\u001b[43m \u001b[49m\u001b[43mcolumns\u001b[49m\u001b[43m,\u001b[49m\u001b[43m \u001b[49m\u001b[43mindex\u001b[49m\u001b[43m,\u001b[49m\u001b[43m \u001b[49m\u001b[43mdtype\u001b[49m\u001b[38;5;241;43m=\u001b[39;49m\u001b[43mdtype\u001b[49m\u001b[43m,\u001b[49m\u001b[43m \u001b[49m\u001b[43mtyp\u001b[49m\u001b[38;5;241;43m=\u001b[39;49m\u001b[43mtyp\u001b[49m\u001b[43m,\u001b[49m\u001b[43m \u001b[49m\u001b[43mconsolidate\u001b[49m\u001b[38;5;241;43m=\u001b[39;49m\u001b[43mcopy\u001b[49m\u001b[43m)\u001b[49m\n",
      "File \u001b[1;32m~\\anaconda3\\lib\\site-packages\\pandas\\core\\internals\\construction.py:125\u001b[0m, in \u001b[0;36marrays_to_mgr\u001b[1;34m(arrays, columns, index, dtype, verify_integrity, typ, consolidate)\u001b[0m\n\u001b[0;32m    122\u001b[0m         index \u001b[38;5;241m=\u001b[39m ensure_index(index)\n\u001b[0;32m    124\u001b[0m     \u001b[38;5;66;03m# don't force copy because getting jammed in an ndarray anyway\u001b[39;00m\n\u001b[1;32m--> 125\u001b[0m     arrays \u001b[38;5;241m=\u001b[39m \u001b[43m_homogenize\u001b[49m\u001b[43m(\u001b[49m\u001b[43marrays\u001b[49m\u001b[43m,\u001b[49m\u001b[43m \u001b[49m\u001b[43mindex\u001b[49m\u001b[43m,\u001b[49m\u001b[43m \u001b[49m\u001b[43mdtype\u001b[49m\u001b[43m)\u001b[49m\n\u001b[0;32m    126\u001b[0m     \u001b[38;5;66;03m# _homogenize ensures\u001b[39;00m\n\u001b[0;32m    127\u001b[0m     \u001b[38;5;66;03m#  - all(len(x) == len(index) for x in arrays)\u001b[39;00m\n\u001b[0;32m    128\u001b[0m     \u001b[38;5;66;03m#  - all(x.ndim == 1 for x in arrays)\u001b[39;00m\n\u001b[1;32m   (...)\u001b[0m\n\u001b[0;32m    131\u001b[0m \n\u001b[0;32m    132\u001b[0m \u001b[38;5;28;01melse\u001b[39;00m:\n\u001b[0;32m    133\u001b[0m     index \u001b[38;5;241m=\u001b[39m ensure_index(index)\n",
      "File \u001b[1;32m~\\anaconda3\\lib\\site-packages\\pandas\\core\\internals\\construction.py:625\u001b[0m, in \u001b[0;36m_homogenize\u001b[1;34m(data, index, dtype)\u001b[0m\n\u001b[0;32m    622\u001b[0m             val \u001b[38;5;241m=\u001b[39m \u001b[38;5;28mdict\u001b[39m(val)\n\u001b[0;32m    623\u001b[0m         val \u001b[38;5;241m=\u001b[39m lib\u001b[38;5;241m.\u001b[39mfast_multiget(val, oindex\u001b[38;5;241m.\u001b[39m_values, default\u001b[38;5;241m=\u001b[39mnp\u001b[38;5;241m.\u001b[39mnan)\n\u001b[1;32m--> 625\u001b[0m     val \u001b[38;5;241m=\u001b[39m \u001b[43msanitize_array\u001b[49m\u001b[43m(\u001b[49m\n\u001b[0;32m    626\u001b[0m \u001b[43m        \u001b[49m\u001b[43mval\u001b[49m\u001b[43m,\u001b[49m\u001b[43m \u001b[49m\u001b[43mindex\u001b[49m\u001b[43m,\u001b[49m\u001b[43m \u001b[49m\u001b[43mdtype\u001b[49m\u001b[38;5;241;43m=\u001b[39;49m\u001b[43mdtype\u001b[49m\u001b[43m,\u001b[49m\u001b[43m \u001b[49m\u001b[43mcopy\u001b[49m\u001b[38;5;241;43m=\u001b[39;49m\u001b[38;5;28;43;01mFalse\u001b[39;49;00m\u001b[43m,\u001b[49m\u001b[43m \u001b[49m\u001b[43mraise_cast_failure\u001b[49m\u001b[38;5;241;43m=\u001b[39;49m\u001b[38;5;28;43;01mFalse\u001b[39;49;00m\n\u001b[0;32m    627\u001b[0m \u001b[43m    \u001b[49m\u001b[43m)\u001b[49m\n\u001b[0;32m    628\u001b[0m     com\u001b[38;5;241m.\u001b[39mrequire_length_match(val, index)\n\u001b[0;32m    630\u001b[0m homogenized\u001b[38;5;241m.\u001b[39mappend(val)\n",
      "File \u001b[1;32m~\\anaconda3\\lib\\site-packages\\pandas\\core\\construction.py:598\u001b[0m, in \u001b[0;36msanitize_array\u001b[1;34m(data, index, dtype, copy, raise_cast_failure, allow_2d)\u001b[0m\n\u001b[0;32m    595\u001b[0m             subarr \u001b[38;5;241m=\u001b[39m cast(np\u001b[38;5;241m.\u001b[39mndarray, subarr)\n\u001b[0;32m    596\u001b[0m             subarr \u001b[38;5;241m=\u001b[39m maybe_infer_to_datetimelike(subarr)\n\u001b[1;32m--> 598\u001b[0m subarr \u001b[38;5;241m=\u001b[39m \u001b[43m_sanitize_ndim\u001b[49m\u001b[43m(\u001b[49m\u001b[43msubarr\u001b[49m\u001b[43m,\u001b[49m\u001b[43m \u001b[49m\u001b[43mdata\u001b[49m\u001b[43m,\u001b[49m\u001b[43m \u001b[49m\u001b[43mdtype\u001b[49m\u001b[43m,\u001b[49m\u001b[43m \u001b[49m\u001b[43mindex\u001b[49m\u001b[43m,\u001b[49m\u001b[43m \u001b[49m\u001b[43mallow_2d\u001b[49m\u001b[38;5;241;43m=\u001b[39;49m\u001b[43mallow_2d\u001b[49m\u001b[43m)\u001b[49m\n\u001b[0;32m    600\u001b[0m \u001b[38;5;28;01mif\u001b[39;00m \u001b[38;5;28misinstance\u001b[39m(subarr, np\u001b[38;5;241m.\u001b[39mndarray):\n\u001b[0;32m    601\u001b[0m     \u001b[38;5;66;03m# at this point we should have dtype be None or subarr.dtype == dtype\u001b[39;00m\n\u001b[0;32m    602\u001b[0m     dtype \u001b[38;5;241m=\u001b[39m cast(np\u001b[38;5;241m.\u001b[39mdtype, dtype)\n",
      "File \u001b[1;32m~\\anaconda3\\lib\\site-packages\\pandas\\core\\construction.py:649\u001b[0m, in \u001b[0;36m_sanitize_ndim\u001b[1;34m(result, data, dtype, index, allow_2d)\u001b[0m\n\u001b[0;32m    647\u001b[0m     \u001b[38;5;28;01mif\u001b[39;00m allow_2d:\n\u001b[0;32m    648\u001b[0m         \u001b[38;5;28;01mreturn\u001b[39;00m result\n\u001b[1;32m--> 649\u001b[0m     \u001b[38;5;28;01mraise\u001b[39;00m \u001b[38;5;167;01mValueError\u001b[39;00m(\u001b[38;5;124m\"\u001b[39m\u001b[38;5;124mData must be 1-dimensional\u001b[39m\u001b[38;5;124m\"\u001b[39m)\n\u001b[0;32m    650\u001b[0m \u001b[38;5;28;01mif\u001b[39;00m is_object_dtype(dtype) \u001b[38;5;129;01mand\u001b[39;00m \u001b[38;5;28misinstance\u001b[39m(dtype, ExtensionDtype):\n\u001b[0;32m    651\u001b[0m     \u001b[38;5;66;03m# i.e. PandasDtype(\"O\")\u001b[39;00m\n\u001b[0;32m    653\u001b[0m     result \u001b[38;5;241m=\u001b[39m com\u001b[38;5;241m.\u001b[39masarray_tuplesafe(data, dtype\u001b[38;5;241m=\u001b[39mnp\u001b[38;5;241m.\u001b[39mdtype(\u001b[38;5;124m\"\u001b[39m\u001b[38;5;124mobject\u001b[39m\u001b[38;5;124m\"\u001b[39m))\n",
      "\u001b[1;31mValueError\u001b[0m: Data must be 1-dimensional"
     ]
    }
   ],
   "source": [
    "test_id = test['Id']\n",
    "df=pd.DataFrame({\"SalePrice\":y_pred_test},index = test_id)\n",
    "df.to_csv('solution.csv')"
   ]
  }
 ],
 "metadata": {
  "kernelspec": {
   "display_name": "Python 3 (ipykernel)",
   "language": "python",
   "name": "python3"
  },
  "language_info": {
   "codemirror_mode": {
    "name": "ipython",
    "version": 3
   },
   "file_extension": ".py",
   "mimetype": "text/x-python",
   "name": "python",
   "nbconvert_exporter": "python",
   "pygments_lexer": "ipython3",
   "version": "3.9.12"
  }
 },
 "nbformat": 4,
 "nbformat_minor": 5
}
